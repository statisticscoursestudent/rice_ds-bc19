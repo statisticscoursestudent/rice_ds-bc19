{
 "cells": [
  {
   "cell_type": "markdown",
   "metadata": {},
   "source": [
    "# Download data\n",
    "\n",
    "Data available via scikit-learn\n",
    "\n",
    "> https://scikit-learn.org/stable/modules/classes.html#module-sklearn.datasets"
   ]
  },
  {
   "cell_type": "code",
   "execution_count": 18,
   "metadata": {},
   "outputs": [
    {
     "name": "stdout",
     "output_type": "stream",
     "text": [
      "<class 'sklearn.utils.Bunch'>\n",
      "dict_keys(['data', 'target', 'target_names', 'DESCR', 'feature_names'])\n",
      "dict_keys(['data', 'target', 'feature_names', 'DESCR', 'filename'])\n"
     ]
    }
   ],
   "source": [
    "from sklearn import datasets\n",
    "\n",
    "##### classifiction (supervised/descrete) #####\n",
    "wine_bunch = datasets.load_wine()\n",
    "print(type(wine_bunch))\n",
    "print(wine_bunch.keys())\n",
    "#print(wine_bunch.DESCR)\n",
    "\n",
    "##### regression (supervised/continuous) #####\n",
    "reg_bunch = datasets.load_boston()\n",
    "print(reg_bunch.keys())\n",
    "\n",
    "\n",
    "##### clustering (unsupervised/descrete) ####\n",
    "#radmon generated data\n",
    "# gene expression\n",
    "##### dimensionality reduction (unuspervised/continuous) #####\n",
    "#https://idyll.pub/post/dimensionality-reduction-293e465c2a3443e8941b016d/\n",
    "#gene expression"
   ]
  },
  {
   "cell_type": "markdown",
   "metadata": {
    "heading_collapsed": true
   },
   "source": [
    "# Pandas overview"
   ]
  },
  {
   "cell_type": "code",
   "execution_count": 5,
   "metadata": {
    "code_folding": [],
    "hidden": true
   },
   "outputs": [],
   "source": [
    "import pandas as pd\n",
    "import numpy as np\n",
    "wine = pd.DataFrame(wine_bunch.data, columns=wine_bunch.feature_names)\n",
    "#display(wine)\n",
    "\n",
    "# # play with these functions #\n",
    "# print(list(wine))\n",
    "# print(wine.proline)\n",
    "# print(wine.iloc[10:20,])\n",
    "# print(wine.iloc[10:20,['ash','magnesium']])\n",
    "# print(wine.iloc[10:20,0:3])\n",
    "# print(wine.loc[10:20,['ash','magnesium']])"
   ]
  },
  {
   "cell_type": "markdown",
   "metadata": {
    "hidden": true
   },
   "source": [
    "wineX is Pandas DataFrame (bacuase we made it a DF earlier)\n",
    "\n",
    "wineY is ndaray"
   ]
  },
  {
   "cell_type": "code",
   "execution_count": 6,
   "metadata": {
    "hidden": true
   },
   "outputs": [
    {
     "name": "stdout",
     "output_type": "stream",
     "text": [
      "(178, 13) (178,)\n"
     ]
    }
   ],
   "source": [
    "wineX = wine\n",
    "wineY = wine_bunch.target\n",
    "\n",
    "print(wineX.shape,wineY.shape)"
   ]
  },
  {
   "cell_type": "markdown",
   "metadata": {},
   "source": [
    "# Supervised classification"
   ]
  },
  {
   "cell_type": "markdown",
   "metadata": {},
   "source": [
    "## Test / train split"
   ]
  },
  {
   "cell_type": "code",
   "execution_count": 7,
   "metadata": {},
   "outputs": [
    {
     "name": "stdout",
     "output_type": "stream",
     "text": [
      "(142, 13) (142,)\n",
      "(36, 13) (36,)\n"
     ]
    }
   ],
   "source": [
    "# random sampling\n",
    "from sklearn.model_selection import train_test_split\n",
    "\n",
    "X_train, X_test, y_train, y_test = train_test_split(wineX, wineY, test_size=0.2, random_state=42)\n",
    "print(X_train.shape, y_train.shape)\n",
    "print(X_test.shape, y_test.shape)\n"
   ]
  },
  {
   "cell_type": "markdown",
   "metadata": {},
   "source": [
    "Repeat the split, but in the context of K-fold validation"
   ]
  },
  {
   "cell_type": "code",
   "execution_count": 8,
   "metadata": {
    "code_folding": []
   },
   "outputs": [
    {
     "name": "stdout",
     "output_type": "stream",
     "text": [
      "KFold(n_splits=5, random_state=42, shuffle=True)\n",
      "(142, 13) (142,)\n",
      "(36, 13) (36,)\n",
      "(142, 13) (142,)\n",
      "(36, 13) (36,)\n",
      "(142, 13) (142,)\n",
      "(36, 13) (36,)\n",
      "(143, 13) (143,)\n",
      "(35, 13) (35,)\n",
      "(143, 13) (143,)\n",
      "(35, 13) (35,)\n"
     ]
    }
   ],
   "source": [
    "# k-fold\n",
    "from sklearn.model_selection import KFold\n",
    "kf = KFold(n_splits=5,random_state=42, shuffle=True)\n",
    "kf.get_n_splits(wineX)\n",
    "print(kf)  \n",
    "for train_index, test_index in kf.split(wineX):\n",
    "    X_train, X_test = wineX.iloc[train_index], wineX.iloc[test_index]\n",
    "    y_train, y_test = wineY[train_index], wineY[test_index]\n",
    "    print(X_train.shape, y_train.shape)\n",
    "    print(X_test.shape, y_test.shape)\n",
    "# NOTE: wineX is a dataframe, wineY is a ndarra (synatax is different line 7 and 8)"
   ]
  },
  {
   "cell_type": "markdown",
   "metadata": {
    "heading_collapsed": true
   },
   "source": [
    "## KNN classification"
   ]
  },
  {
   "cell_type": "markdown",
   "metadata": {
    "hidden": true
   },
   "source": [
    "Visualize the data"
   ]
  },
  {
   "cell_type": "code",
   "execution_count": 9,
   "metadata": {
    "hidden": true,
    "scrolled": true
   },
   "outputs": [
    {
     "name": "stdout",
     "output_type": "stream",
     "text": [
      "['alcohol', 'malic_acid', 'ash', 'alcalinity_of_ash', 'magnesium', 'total_phenols', 'flavanoids', 'nonflavanoid_phenols', 'proanthocyanins', 'color_intensity', 'hue', 'od280/od315_of_diluted_wines', 'proline']\n"
     ]
    },
    {
     "data": {
      "text/plain": [
       "<Figure size 640x480 with 1 Axes>"
      ]
     },
     "metadata": {},
     "output_type": "display_data"
    }
   ],
   "source": [
    "# K Nearest Neighbors\n",
    "import matplotlib.pyplot as plt\n",
    "print(list(X_train))\n",
    "plt.scatter(X_train['alcalinity_of_ash'], X_train['total_phenols'],c=y_train)\n",
    "plt.show()\n",
    "# CHANGE which features that you are plotting\n",
    "# Can only visualize on 2 dimensions but algorithm will cluster on all dimensions"
   ]
  },
  {
   "cell_type": "code",
   "execution_count": 11,
   "metadata": {
    "hidden": true
   },
   "outputs": [
    {
     "name": "stdout",
     "output_type": "stream",
     "text": [
      "KNeighborsClassifier(algorithm='auto', leaf_size=10, metric='minkowski',\n",
      "                     metric_params=None, n_jobs=None, n_neighbors=3, p=2,\n",
      "                     weights='uniform')\n"
     ]
    }
   ],
   "source": [
    "from sklearn.neighbors import KNeighborsClassifier\n",
    "neigh = KNeighborsClassifier(n_neighbors=3, leaf_size=10)\n",
    "neigh.fit(X_train, y_train) \n",
    "print(neigh)\n",
    "# print(neigh.predict(X_test))\n",
    "# print(neigh.predict_proba(X_test))\n",
    "# # TEST SCORE\n",
    "# print(neigh.score(X_test,y_test))\n",
    "# # TRAINING SCORE\n",
    "# print(neigh.score(X_train,y_train))"
   ]
  },
  {
   "cell_type": "code",
   "execution_count": 12,
   "metadata": {
    "hidden": true
   },
   "outputs": [
    {
     "name": "stdout",
     "output_type": "stream",
     "text": [
      "['alcohol', 'malic_acid', 'ash', 'alcalinity_of_ash', 'magnesium', 'total_phenols', 'flavanoids', 'nonflavanoid_phenols', 'proanthocyanins', 'color_intensity', 'hue', 'od280/od315_of_diluted_wines', 'proline']\n"
     ]
    },
    {
     "data": {
      "image/png": "[encoded data removed]",
      "text/plain": [
       "<Figure size 432x288 with 1 Axes>"
      ]
     },
     "metadata": {
      "needs_background": "light"
     },
     "output_type": "display_data"
    },
    {
     "data": {
      "image/png": "[encoded data removed]",
      "text/plain": [
       "<Figure size 432x288 with 1 Axes>"
      ]
     },
     "metadata": {
      "needs_background": "light"
     },
     "output_type": "display_data"
    }
   ],
   "source": [
    "print(list(X_train))\n",
    "y_pred = neigh.predict(X_test)\n",
    "\n",
    "#PLOT RESULTS\n",
    "plt.title(\"Orignal Y\")\n",
    "plt.scatter(X_test['alcalinity_of_ash'], X_test['total_phenols'],c=y_test)\n",
    "plt.show()\n",
    "plt.title(\"Predicted Y\")\n",
    "plt.scatter(X_test['alcalinity_of_ash'], X_test['total_phenols'],c=y_pred)\n",
    "plt.show()"
   ]
  },
  {
   "cell_type": "markdown",
   "metadata": {
    "hidden": true
   },
   "source": [
    "Visualizing the results\n",
    "\n",
    "TRY ON DIFFERENT SPLIT!!"
   ]
  },
  {
   "cell_type": "code",
   "execution_count": 16,
   "metadata": {
    "hidden": true
   },
   "outputs": [],
   "source": [
    "from sklearn.metrics import confusion_matrix\n",
    "from sklearn.utils.multiclass import unique_labels\n",
    "\n",
    "# class_names = wine_bunch.target_names\n",
    "\n",
    "# plot_confusion_matrix(y_test, y_pred, classes=class_names,\n",
    "#                       title='Confusion matrix, without normalization')\n",
    "\n",
    "# # Plot normalized confusion matrix\n",
    "# plot_confusion_matrix(y_test, y_pred, classes=class_names, normalize=True,\n",
    "#                       title='Normalized confusion matrix')"
   ]
  },
  {
   "cell_type": "markdown",
   "metadata": {
    "heading_collapsed": true,
    "hidden": true
   },
   "source": [
    "### Plotting function\n",
    "Refernce:\n",
    "\n",
    "https://scikit-learn.org/stable/auto_examples/model_selection/plot_confusion_matrix.html#sphx-glr-auto-examples-model-selection-plot-confusion-matrix-py"
   ]
  },
  {
   "cell_type": "code",
   "execution_count": 14,
   "metadata": {
    "hidden": true
   },
   "outputs": [],
   "source": [
    "def plot_confusion_matrix(y_true, y_pred, classes,\n",
    "                          normalize=False,\n",
    "                          title=None,\n",
    "                          cmap=plt.cm.Blues):\n",
    "    \"\"\"\n",
    "    This function prints and plots the confusion matrix.\n",
    "    Normalization can be applied by setting `normalize=True`.\n",
    "    \"\"\"\n",
    "    if not title:\n",
    "        if normalize:\n",
    "            title = 'Normalized confusion matrix'\n",
    "        else:\n",
    "            title = 'Confusion matrix, without normalization'\n",
    "\n",
    "    # Compute confusion matrix\n",
    "    cm = confusion_matrix(y_true, y_pred)\n",
    "    # Only use the labels that appear in the data\n",
    "    classes = classes[unique_labels(y_true, y_pred)]\n",
    "    if normalize:\n",
    "        cm = cm.astype('float') / cm.sum(axis=1)[:, np.newaxis]\n",
    "        print(\"Normalized confusion matrix\")\n",
    "    else:\n",
    "        print('Confusion matrix, without normalization')\n",
    "\n",
    "    print(cm)\n",
    "\n",
    "    fig, ax = plt.subplots()\n",
    "    im = ax.imshow(cm, interpolation='nearest', cmap=cmap)\n",
    "    ax.figure.colorbar(im, ax=ax)\n",
    "    # We want to show all ticks...\n",
    "    ax.set(xticks=np.arange(cm.shape[1]),\n",
    "           yticks=np.arange(cm.shape[0]),\n",
    "           # ... and label them with the respective list entries\n",
    "           xticklabels=classes, yticklabels=classes,\n",
    "           title=title,\n",
    "           ylabel='True label',\n",
    "           xlabel='Predicted label')\n",
    "\n",
    "    # Rotate the tick labels and set their alignment.\n",
    "    plt.setp(ax.get_xticklabels(), rotation=45, ha=\"right\",\n",
    "             rotation_mode=\"anchor\")\n",
    "\n",
    "    # Loop over data dimensions and create text annotations.\n",
    "    fmt = '.2f' if normalize else 'd'\n",
    "    thresh = cm.max() / 2.\n",
    "    for i in range(cm.shape[0]):\n",
    "        for j in range(cm.shape[1]):\n",
    "            ax.text(j, i, format(cm[i, j], fmt),\n",
    "                    ha=\"center\", va=\"center\",\n",
    "                    color=\"white\" if cm[i, j] > thresh else \"black\")\n",
    "    fig.tight_layout()\n",
    "    return ax"
   ]
  },
  {
   "cell_type": "markdown",
   "metadata": {
    "heading_collapsed": true
   },
   "source": [
    "## Excercise 1 (30minutes)"
   ]
  },
  {
   "cell_type": "code",
   "execution_count": 89,
   "metadata": {
    "hidden": true
   },
   "outputs": [],
   "source": [
    "# 1. Perform K-fold KNN cross validation on the wine data\n",
    "# 2. Modify KNN hyper parameters and see how it effects the results\n",
    "\n",
    "\n",
    "# #pseudo code:\n",
    "# create k-folds\n",
    "# for each split:\n",
    "#     train KNN\n",
    "#     predict for the split\n",
    "#     see the score"
   ]
  },
  {
   "cell_type": "markdown",
   "metadata": {},
   "source": [
    "# Supervised regression"
   ]
  },
  {
   "cell_type": "markdown",
   "metadata": {},
   "source": [
    "## Test / train split"
   ]
  },
  {
   "cell_type": "code",
   "execution_count": 19,
   "metadata": {},
   "outputs": [
    {
     "name": "stdout",
     "output_type": "stream",
     "text": [
      "(404, 13) (404,)\n",
      "(102, 13) (102,)\n"
     ]
    }
   ],
   "source": [
    "# random sampling\n",
    "from sklearn import preprocessing\n",
    "reg_bunch.data = preprocessing.scale(reg_bunch.data)\n",
    "\n",
    "regX = pd.DataFrame(reg_bunch.data, columns=reg_bunch.feature_names)\n",
    "regY = reg_bunch.target\n",
    "# print(bostonX.iloc[0:10])\n",
    "# print(bostonY[0:10])\n",
    "\n",
    "from sklearn.model_selection import train_test_split\n",
    "\n",
    "X_train, X_test, y_train, y_test = train_test_split(regX, regY, test_size=0.2, random_state=42)\n",
    "print(X_train.shape, y_train.shape)\n",
    "print(X_test.shape, y_test.shape)\n",
    "\n",
    "\n"
   ]
  },
  {
   "cell_type": "markdown",
   "metadata": {},
   "source": [
    "## Regression\n",
    "\n",
    "https://scikit-learn.org/stable/modules/linear_model.html"
   ]
  },
  {
   "cell_type": "code",
   "execution_count": 20,
   "metadata": {},
   "outputs": [
    {
     "name": "stdout",
     "output_type": "stream",
     "text": [
      "[-0.97149423  0.70155562  0.27675212  0.70653152 -1.99143043  3.11571836\n",
      " -0.17706021 -3.04577065  2.28278471 -1.79260468 -1.97995351  1.12649864\n",
      " -3.62814937]\n",
      "Train score:  0.7508856358979672\n",
      "Test score:  0.668759493535632\n"
     ]
    },
    {
     "data": {
      "image/png": "[encoded data removed]",
      "text/plain": [
       "<Figure size 432x288 with 1 Axes>"
      ]
     },
     "metadata": {
      "needs_background": "light"
     },
     "output_type": "display_data"
    }
   ],
   "source": [
    "##### linear regression ########\n",
    "from sklearn import linear_model\n",
    "\n",
    "reg = linear_model.LinearRegression()\n",
    "reg.fit(X_train, y_train)\n",
    "print(reg.coef_)\n",
    "y_pred = reg.predict(X_test)\n",
    "print(\"Train score: \", reg.score(X_train,y_train))\n",
    "print(\"Test score: \", reg.score(X_test,y_test))\n",
    "plt.scatter(y_test, y_pred)\n",
    "plt.show()"
   ]
  },
  {
   "cell_type": "code",
   "execution_count": 32,
   "metadata": {
    "code_folding": [
     3
    ]
   },
   "outputs": [
    {
     "name": "stdout",
     "output_type": "stream",
     "text": [
      "[-0.84416652  0.46198062 -0.03418626  0.75114482 -1.53723325  3.17316115\n",
      " -0.1880602  -2.48151078  1.31849282 -0.97365431 -1.83807721  1.08177436\n",
      " -3.40377171]\n",
      "Train score:  0.7479054361035442\n",
      "Test score:  0.6635630501366221\n"
     ]
    },
    {
     "data": {
      "image/png": "[encoded data removed]",
      "text/plain": [
       "<Figure size 432x288 with 1 Axes>"
      ]
     },
     "metadata": {
      "needs_background": "light"
     },
     "output_type": "display_data"
    }
   ],
   "source": [
    "#### RIDGE regression  ######\n",
    "from sklearn.linear_model import Ridge\n",
    "\n",
    "def find_alpha():\n",
    "    # adopted from: https://towardsdatascience.com/ridge-regression-for-better-usage-2f19b3a202db\n",
    "    ridge_reg = Ridge(alpha=0)\n",
    "    ridge_reg.fit(X_train, y_train)\n",
    "    ridge_df = pd.DataFrame({'variable': reg_bunch.feature_names, 'estimate': ridge_reg.coef_})\n",
    "    ridge_train_pred = []\n",
    "    ridge_test_pred = []\n",
    "    # iterate lambdas\n",
    "\n",
    "    # iterate lambdas\n",
    "    for alpha in np.arange(0, 200, 1):\n",
    "        # training\n",
    "        ridge_reg = Ridge(alpha=alpha)\n",
    "        ridge_reg.fit(X_train, y_train)\n",
    "        var_name = 'estimate' + str(alpha)\n",
    "        ridge_df[var_name] = ridge_reg.coef_\n",
    "        # prediction\n",
    "        ridge_train_pred.append(ridge_reg.predict(X_train))\n",
    "        ridge_test_pred.append(ridge_reg.predict(X_test))\n",
    "\n",
    "    # organize dataframe\n",
    "    ridge_df = ridge_df.set_index('variable').T.rename_axis('estimate').rename_axis(1).reset_index()\n",
    "    # plot betas by lambda\n",
    "    fig, ax = plt.subplots(figsize=(10, 5))\n",
    "    ax.plot(ridge_df.RM, 'r', ridge_df.ZN, 'g', ridge_df.RAD, 'b', ridge_df.CRIM, 'c', ridge_df.TAX, 'y')\n",
    "    ax.axhline(y=0, color='black', linestyle='--')\n",
    "    ax.set_xlabel(\"Lambda\")\n",
    "    ax.set_ylabel(\"Beta Estimate\")\n",
    "    ax.set_title(\"Ridge Regression Trace\", fontsize=16)\n",
    "    ax.legend(labels=['Room','Residential Zone','Highway Access','Crime Rate','Tax'])\n",
    "    ax.grid(True)\n",
    "    plt.show()\n",
    "\n",
    "# Rooms is the features that has the most significance\n",
    "#find_alpha()\n",
    "\n",
    "ridge = Ridge(alpha=20.0)\n",
    "ridge.fit(X_train, y_train)\n",
    "print(ridge.coef_)\n",
    "y_pred = ridge.predict(X_test)\n",
    "print(\"Train score: \", ridge.score(X_train,y_train))\n",
    "print(\"Test score: \", ridge.score(X_test,y_test))\n",
    "plt.scatter(y_test, y_pred)\n",
    "plt.show()"
   ]
  },
  {
   "cell_type": "code",
   "execution_count": 35,
   "metadata": {
    "code_folding": [
     3
    ]
   },
   "outputs": [
    {
     "name": "stdout",
     "output_type": "stream",
     "text": [
      "[-0.83796934  0.46704064  0.          0.70483741 -1.74067035  3.16378634\n",
      " -0.06698043 -2.67152839  1.42785917 -0.98008334 -1.90529396  1.07252204\n",
      " -3.62223499]\n",
      "Train score:  0.7492259559040106\n",
      "Test score:  0.6625840465413749\n"
     ]
    },
    {
     "data": {
      "image/png": "[encoded data removed]",
      "text/plain": [
       "<Figure size 432x288 with 1 Axes>"
      ]
     },
     "metadata": {
      "needs_background": "light"
     },
     "output_type": "display_data"
    }
   ],
   "source": [
    "#### LASSO regression  ######\n",
    "from sklearn import linear_model\n",
    "\n",
    "def find_alpha():\n",
    "    ridge_reg = linear_model.Lasso(alpha=0.01)\n",
    "    ridge_reg.fit(X_train, y_train)\n",
    "    ridge_df = pd.DataFrame({'variable': reg_bunch.feature_names, 'estimate': ridge_reg.coef_})\n",
    "    ridge_train_pred = []\n",
    "    ridge_test_pred = []\n",
    "    # iterate lambdas\n",
    "\n",
    "    # iterate lambdas\n",
    "    for alpha in np.arange(0.1, 1,0.1):\n",
    "        # training\n",
    "        ridge_reg = linear_model.Lasso(alpha=alpha)\n",
    "        ridge_reg.fit(X_train, y_train)\n",
    "        var_name = 'estimate' + str(alpha)\n",
    "        ridge_df[var_name] = ridge_reg.coef_\n",
    "        # prediction\n",
    "        ridge_train_pred.append(ridge_reg.predict(X_train))\n",
    "        ridge_test_pred.append(ridge_reg.predict(X_test))\n",
    "\n",
    "    # organize dataframe\n",
    "    ridge_df = ridge_df.set_index('variable').T.rename_axis('estimate').rename_axis(1).reset_index()\n",
    "    # plot betas by lambda\n",
    "    fig, ax = plt.subplots(figsize=(10, 5))\n",
    "    ax.plot(ridge_df.RM, 'r', ridge_df.ZN, 'g', ridge_df.RAD, 'b', ridge_df.CRIM, 'c', ridge_df.TAX, 'y')\n",
    "    ax.axhline(y=0, color='black', linestyle='--')\n",
    "    ax.set_xlabel(\"Lambda\")\n",
    "    ax.set_ylabel(\"Beta Estimate\")\n",
    "    ax.set_title(\"Lasso Regression Trace\", fontsize=16)\n",
    "    ax.legend(labels=['Room','Residential Zone','Highway Access','Crime Rate','Tax'])\n",
    "    ax.grid(True)\n",
    "    plt.show()\n",
    "\n",
    "#find_alpha()\n",
    "\n",
    "lasso = linear_model.Lasso(alpha=0.05)\n",
    "lasso.fit(X_train, y_train)\n",
    "print(lasso.coef_)\n",
    "y_pred = lasso.predict(X_test)\n",
    "print(\"Train score: \", lasso.score(X_train,y_train))\n",
    "print(\"Test score: \", lasso.score(X_test,y_test))\n",
    "plt.scatter(y_test, y_pred)\n",
    "plt.show()"
   ]
  },
  {
   "cell_type": "code",
   "execution_count": 56,
   "metadata": {},
   "outputs": [
    {
     "name": "stdout",
     "output_type": "stream",
     "text": [
      "LR train:  0.9767790895554215\n",
      "LR test:  0.3770297714569159\n",
      "LR RMSE:  3.1986012122242817\n",
      "\n",
      "Ridge train:  0.9545350496479551\n",
      "Ridge test:  0.6537684262994671\n",
      "Ridge RMSE:  2.019245966032022\n",
      "\n",
      "Lasso train:  0.917867089365298\n",
      "Lasso test:  0.5547537632599873\n",
      "Lasso RMSE:  2.592433720110876\n"
     ]
    },
    {
     "data": {
      "image/png": "[encoded data removed]",
      "text/plain": [
       "<Figure size 432x288 with 1 Axes>"
      ]
     },
     "metadata": {
      "needs_background": "light"
     },
     "output_type": "display_data"
    },
    {
     "data": {
      "image/png": "[encoded data removed]",
      "text/plain": [
       "<Figure size 432x288 with 1 Axes>"
      ]
     },
     "metadata": {
      "needs_background": "light"
     },
     "output_type": "display_data"
    },
    {
     "data": {
      "image/png": "[encoded data removed]",
      "text/plain": [
       "<Figure size 432x288 with 1 Axes>"
      ]
     },
     "metadata": {
      "needs_background": "light"
     },
     "output_type": "display_data"
    }
   ],
   "source": [
    "from sklearn import linear_model\n",
    "from sklearn.linear_model import Ridge\n",
    "from sklearn.metrics import mean_squared_error\n",
    "\n",
    "np.random.seed(101)\n",
    "\n",
    "#generate dataset (wide datset)\n",
    "X = np.random.normal(0,1,size=(50, 30))\n",
    "# will have 10 some high coefficients \n",
    "coef1 = np.random.uniform(0.5,1,10)\n",
    "# and 20 low coefficeints\n",
    "coef2 = np.random.uniform(0.0,0.3,20)\n",
    "coef = np.concatenate((coef1, coef2), axis=0)\n",
    "# plt.hist(coef)\n",
    "# plt.show()\n",
    "y_dot = X.dot(coef)\n",
    "\n",
    "# generate response data by adding noise \n",
    "# why adding noise?\n",
    "y_response = y_dot + np.random.normal(0,1,50)\n",
    "\n",
    "\n",
    "lr_train = []\n",
    "lr_test = []\n",
    "lr_rmse = []\n",
    "ridge_train = []\n",
    "ridge_test = []\n",
    "ridge_rmse = []\n",
    "lasso_train = []\n",
    "lasso_test = []\n",
    "lasso_rmse = []\n",
    "\n",
    "\n",
    "for i in range(0,100):\n",
    "    X_train, X_test, y_train, y_test = train_test_split(X, y_response, test_size=0.2)\n",
    "\n",
    "    ##### linear regression ########\n",
    "    reg = linear_model.LinearRegression()\n",
    "    reg.fit(X_train, y_train)\n",
    "    y_pred = reg.predict(X_test)\n",
    "    lr_train.append(reg.score(X_train,y_train))\n",
    "    lr_test.append(reg.score(X_test,y_test))\n",
    "    lr_rmse.append(mean_squared_error(y_test, y_pred))\n",
    "\n",
    "\n",
    "    #### RIDGE regression  ######\n",
    "    ridge = Ridge(alpha=5.0)\n",
    "    ridge.fit(X_train, y_train)\n",
    "    y_pred = ridge.predict(X_test)\n",
    "    ridge_train.append(ridge.score(X_train,y_train))\n",
    "    ridge_test.append(ridge.score(X_test,y_test))\n",
    "    ridge_rmse.append(mean_squared_error(y_test, y_pred))\n",
    "\n",
    "    \n",
    "    #### LASSO regression  ######\n",
    "    lasso = linear_model.Lasso(alpha=0.1)\n",
    "    lasso.fit(X_train, y_train)\n",
    "    y_pred = lasso.predict(X_test)\n",
    "    lasso_train.append(lasso.score(X_train,y_train))\n",
    "    lasso_test.append(lasso.score(X_test,y_test))\n",
    "    lasso_rmse.append(mean_squared_error(y_test, y_pred))\n",
    "\n",
    "    \n",
    "    \n",
    "print('LR train: ',sum(lr_train)/len(lr_train))\n",
    "print('LR test: ',sum(lr_test)/len(lr_test))\n",
    "print('LR RMSE: ',sum(lr_rmse)/len(lr_rmse))\n",
    "print(\"\")\n",
    "print('Ridge train: ',sum(ridge_train)/len(ridge_train))\n",
    "print('Ridge test: ',sum(ridge_test)/len(ridge_test))\n",
    "print('Ridge RMSE: ',sum(ridge_rmse)/len(ridge_rmse))\n",
    "print(\"\")\n",
    "print('Lasso train: ',sum(lasso_train)/len(lasso_train))\n",
    "print('Lasso test: ',sum(lasso_test)/len(lasso_test))\n",
    "print('Lasso RMSE: ',sum(lasso_rmse)/len(lasso_rmse))\n",
    "\n",
    "\n",
    "\n",
    "#examine variance and bias\n",
    "plt.hist(lr_test)\n",
    "plt.show()\n",
    "plt.hist(ridge_test)\n",
    "plt.show()\n",
    "plt.hist(lasso_test)\n",
    "plt.show()\n"
   ]
  },
  {
   "cell_type": "markdown",
   "metadata": {},
   "source": [
    "# ORANGE\n",
    "\n",
    "Use the script below\n",
    "\n",
    "https://www.youtube.com/playlist?list=PLmNPvQr9Tf-ZSDLwOzxpvY-HrE0yv-8Fy&disable_polymer=true"
   ]
  },
  {
   "cell_type": "code",
   "execution_count": null,
   "metadata": {},
   "outputs": [],
   "source": [
    "import numpy as np\n",
    "from Orange.data import Domain, Table\n",
    "\n",
    "#generate dataset (wide datset)\n",
    "X = np.random.normal(0,1,size=(50, 30))\n",
    "# will have 10 some high coefficients \n",
    "coef1 = np.random.uniform(0.5,1,10)\n",
    "# and 20 low coefficeints\n",
    "coef2 = np.random.uniform(0.0,0.3,20)\n",
    "coef = np.concatenate((coef1, coef2), axis=0)\n",
    "# plt.hist(coef)\n",
    "# plt.show()\n",
    "y_dot = X.dot(coef)\n",
    "y_response = y_dot + np.random.normal(0,1,50)\n",
    "\n",
    "y_response = y_response.reshape((y_response.shape[0],1))\n",
    "all_data = np.append(X, y_response, 1)\n",
    "out_data = Table(all_data)"
   ]
  },
  {
   "cell_type": "markdown",
   "metadata": {},
   "source": [
    "## Excersices\n",
    "\n",
    "1. Add seed to both Jupyter code and to ORANGE code: np.random.seed(101)\n",
    "\n",
    "2. Why are the results not the same?\n",
    "\n",
    "3. Try generating larger data set (50, 30) -> (500, 30). What happens?"
   ]
  },
  {
   "cell_type": "markdown",
   "metadata": {},
   "source": [
    "## Regression Lab\n",
    "![alt text](orangeReg.png \"Workflow\")\n",
    "\n",
    "<b>Data</b>: /data/dow_jones_index/dow_jones_index2.csv\n",
    "\n",
    "<b>Goal</b>: predict closing price for the last 3 days for each stock. Date is represented as numeric value here, so you need to predict for date > 40700"
   ]
  },
  {
   "cell_type": "markdown",
   "metadata": {},
   "source": [
    "## Classification Lab\n",
    "![alt text](orangeClass.png \"Workflow\")\n",
    "\n",
    "<b>Data</b>: /data/titanic.csv\n",
    "\n",
    "<b>Goal</b>: Randomly split into train and test and predict \"survived\" variable"
   ]
  }
 ],
 "metadata": {
  "kernelspec": {
   "display_name": "Python 3",
   "language": "python",
   "name": "python3"
  },
  "language_info": {
   "codemirror_mode": {
    "name": "ipython",
    "version": 3
   },
   "file_extension": ".py",
   "mimetype": "text/x-python",
   "name": "python",
   "nbconvert_exporter": "python",
   "pygments_lexer": "ipython3",
   "version": "3.7.3"
  }
 },
 "nbformat": 4,
 "nbformat_minor": 2
}
